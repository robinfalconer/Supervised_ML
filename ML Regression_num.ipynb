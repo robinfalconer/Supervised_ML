{
 "cells": [
  {
   "cell_type": "code",
   "execution_count": 2,
   "id": "acd0f0a3",
   "metadata": {},
   "outputs": [
    {
     "data": {
      "text/html": [
       "<div>\n",
       "<style scoped>\n",
       "    .dataframe tbody tr th:only-of-type {\n",
       "        vertical-align: middle;\n",
       "    }\n",
       "\n",
       "    .dataframe tbody tr th {\n",
       "        vertical-align: top;\n",
       "    }\n",
       "\n",
       "    .dataframe thead th {\n",
       "        text-align: right;\n",
       "    }\n",
       "</style>\n",
       "<table border=\"1\" class=\"dataframe\">\n",
       "  <thead>\n",
       "    <tr style=\"text-align: right;\">\n",
       "      <th></th>\n",
       "      <th>Wind speed (m/s)</th>\n",
       "      <th>Wind direction (°)</th>\n",
       "      <th>Nacelle position (°)</th>\n",
       "      <th>Energy Export (kWh)</th>\n",
       "      <th>Ambient temperature (°C)</th>\n",
       "      <th>Production Factor</th>\n",
       "      <th>Month</th>\n",
       "      <th>Quarter</th>\n",
       "      <th>wind_cat</th>\n",
       "      <th>Blade angle (pitch) (°)</th>\n",
       "      <th>Power (kW)</th>\n",
       "      <th>Nacelle position in relation to wind direction (°)</th>\n",
       "      <th>wind_direction_cat</th>\n",
       "    </tr>\n",
       "  </thead>\n",
       "  <tbody>\n",
       "    <tr>\n",
       "      <th>0</th>\n",
       "      <td>7.343056</td>\n",
       "      <td>192.267168</td>\n",
       "      <td>192.236379</td>\n",
       "      <td>275904.0</td>\n",
       "      <td>4.609568</td>\n",
       "      <td>1.043885</td>\n",
       "      <td>January</td>\n",
       "      <td>1</td>\n",
       "      <td>high wind</td>\n",
       "      <td>357.740358</td>\n",
       "      <td>1277.312961</td>\n",
       "      <td>-0.030789</td>\n",
       "      <td>SW</td>\n",
       "    </tr>\n",
       "    <tr>\n",
       "      <th>1</th>\n",
       "      <td>3.923920</td>\n",
       "      <td>248.018972</td>\n",
       "      <td>259.760802</td>\n",
       "      <td>46150.0</td>\n",
       "      <td>2.771605</td>\n",
       "      <td>1.022813</td>\n",
       "      <td>January</td>\n",
       "      <td>1</td>\n",
       "      <td>low wind</td>\n",
       "      <td>2.144051</td>\n",
       "      <td>213.654321</td>\n",
       "      <td>11.741830</td>\n",
       "      <td>SW</td>\n",
       "    </tr>\n",
       "    <tr>\n",
       "      <th>2</th>\n",
       "      <td>8.693133</td>\n",
       "      <td>106.338927</td>\n",
       "      <td>106.561752</td>\n",
       "      <td>387574.0</td>\n",
       "      <td>3.120370</td>\n",
       "      <td>0.961292</td>\n",
       "      <td>January</td>\n",
       "      <td>1</td>\n",
       "      <td>very high wind</td>\n",
       "      <td>358.503509</td>\n",
       "      <td>1794.331558</td>\n",
       "      <td>0.222825</td>\n",
       "      <td>SE</td>\n",
       "    </tr>\n",
       "    <tr>\n",
       "      <th>3</th>\n",
       "      <td>8.710494</td>\n",
       "      <td>58.830084</td>\n",
       "      <td>58.915881</td>\n",
       "      <td>406504.0</td>\n",
       "      <td>3.043981</td>\n",
       "      <td>1.006229</td>\n",
       "      <td>January</td>\n",
       "      <td>1</td>\n",
       "      <td>very high wind</td>\n",
       "      <td>357.841671</td>\n",
       "      <td>1881.943594</td>\n",
       "      <td>0.085797</td>\n",
       "      <td>NE</td>\n",
       "    </tr>\n",
       "    <tr>\n",
       "      <th>4</th>\n",
       "      <td>7.415895</td>\n",
       "      <td>30.593636</td>\n",
       "      <td>30.651821</td>\n",
       "      <td>263468.0</td>\n",
       "      <td>-0.339506</td>\n",
       "      <td>1.007293</td>\n",
       "      <td>January</td>\n",
       "      <td>1</td>\n",
       "      <td>high wind</td>\n",
       "      <td>357.656021</td>\n",
       "      <td>1219.766822</td>\n",
       "      <td>0.058185</td>\n",
       "      <td>NE</td>\n",
       "    </tr>\n",
       "  </tbody>\n",
       "</table>\n",
       "</div>"
      ],
      "text/plain": [
       "   Wind speed (m/s)  Wind direction (°)  Nacelle position (°)  \\\n",
       "0          7.343056          192.267168            192.236379   \n",
       "1          3.923920          248.018972            259.760802   \n",
       "2          8.693133          106.338927            106.561752   \n",
       "3          8.710494           58.830084             58.915881   \n",
       "4          7.415895           30.593636             30.651821   \n",
       "\n",
       "   Energy Export (kWh)  Ambient temperature (°C)  Production Factor    Month  \\\n",
       "0             275904.0                  4.609568           1.043885  January   \n",
       "1              46150.0                  2.771605           1.022813  January   \n",
       "2             387574.0                  3.120370           0.961292  January   \n",
       "3             406504.0                  3.043981           1.006229  January   \n",
       "4             263468.0                 -0.339506           1.007293  January   \n",
       "\n",
       "   Quarter        wind_cat  Blade angle (pitch) (°)   Power (kW)  \\\n",
       "0        1       high wind               357.740358  1277.312961   \n",
       "1        1        low wind                 2.144051   213.654321   \n",
       "2        1  very high wind               358.503509  1794.331558   \n",
       "3        1  very high wind               357.841671  1881.943594   \n",
       "4        1       high wind               357.656021  1219.766822   \n",
       "\n",
       "   Nacelle position in relation to wind direction (°) wind_direction_cat  \n",
       "0                                          -0.030789                  SW  \n",
       "1                                          11.741830                  SW  \n",
       "2                                           0.222825                  SE  \n",
       "3                                           0.085797                  NE  \n",
       "4                                           0.058185                  NE  "
      ]
     },
     "execution_count": 2,
     "metadata": {},
     "output_type": "execute_result"
    }
   ],
   "source": [
    "import pandas as pd\n",
    "df = pd.read_csv(\"wind_farm\")\n",
    "df.head()"
   ]
  },
  {
   "cell_type": "markdown",
   "id": "0f8d3c57",
   "metadata": {},
   "source": [
    "# X and y"
   ]
  },
  {
   "cell_type": "code",
   "execution_count": 3,
   "id": "43a05231",
   "metadata": {},
   "outputs": [
    {
     "data": {
      "text/plain": [
       "Index(['Wind speed (m/s)', 'Wind direction (°)', 'Nacelle position (°)',\n",
       "       'Energy Export (kWh)', 'Ambient temperature (°C)', 'Production Factor',\n",
       "       'Month', 'Quarter', 'wind_cat', 'Blade angle (pitch) (°)', 'Power (kW)',\n",
       "       'Nacelle position in relation to wind direction (°)',\n",
       "       'wind_direction_cat'],\n",
       "      dtype='object')"
      ]
     },
     "execution_count": 3,
     "metadata": {},
     "output_type": "execute_result"
    }
   ],
   "source": [
    "df.columns"
   ]
  },
  {
   "cell_type": "code",
   "execution_count": 4,
   "id": "a64fb7cb",
   "metadata": {},
   "outputs": [],
   "source": [
    "target_var = 'Energy Export (kWh)'\n",
    "X = df.drop(columns=[target_var, 'Wind direction (°)','Nacelle position (°)', 'Production Factor', \n",
    "                     'Quarter', 'Blade angle (pitch) (°)', 'Power (kW)',\n",
    "                    'Nacelle position in relation to wind direction (°)',\n",
    "                    'wind_cat'])\n",
    "y = df[target_var]"
   ]
  },
  {
   "cell_type": "code",
   "execution_count": 5,
   "id": "df7fdc0e",
   "metadata": {},
   "outputs": [
    {
     "data": {
      "text/html": [
       "<div>\n",
       "<style scoped>\n",
       "    .dataframe tbody tr th:only-of-type {\n",
       "        vertical-align: middle;\n",
       "    }\n",
       "\n",
       "    .dataframe tbody tr th {\n",
       "        vertical-align: top;\n",
       "    }\n",
       "\n",
       "    .dataframe thead th {\n",
       "        text-align: right;\n",
       "    }\n",
       "</style>\n",
       "<table border=\"1\" class=\"dataframe\">\n",
       "  <thead>\n",
       "    <tr style=\"text-align: right;\">\n",
       "      <th></th>\n",
       "      <th>Wind speed (m/s)</th>\n",
       "      <th>Ambient temperature (°C)</th>\n",
       "      <th>Month</th>\n",
       "      <th>wind_direction_cat</th>\n",
       "    </tr>\n",
       "  </thead>\n",
       "  <tbody>\n",
       "    <tr>\n",
       "      <th>0</th>\n",
       "      <td>7.343056</td>\n",
       "      <td>4.609568</td>\n",
       "      <td>January</td>\n",
       "      <td>SW</td>\n",
       "    </tr>\n",
       "    <tr>\n",
       "      <th>1</th>\n",
       "      <td>3.923920</td>\n",
       "      <td>2.771605</td>\n",
       "      <td>January</td>\n",
       "      <td>SW</td>\n",
       "    </tr>\n",
       "    <tr>\n",
       "      <th>2</th>\n",
       "      <td>8.693133</td>\n",
       "      <td>3.120370</td>\n",
       "      <td>January</td>\n",
       "      <td>SE</td>\n",
       "    </tr>\n",
       "    <tr>\n",
       "      <th>3</th>\n",
       "      <td>8.710494</td>\n",
       "      <td>3.043981</td>\n",
       "      <td>January</td>\n",
       "      <td>NE</td>\n",
       "    </tr>\n",
       "    <tr>\n",
       "      <th>4</th>\n",
       "      <td>7.415895</td>\n",
       "      <td>-0.339506</td>\n",
       "      <td>January</td>\n",
       "      <td>NE</td>\n",
       "    </tr>\n",
       "    <tr>\n",
       "      <th>...</th>\n",
       "      <td>...</td>\n",
       "      <td>...</td>\n",
       "      <td>...</td>\n",
       "      <td>...</td>\n",
       "    </tr>\n",
       "    <tr>\n",
       "      <th>1091</th>\n",
       "      <td>12.215123</td>\n",
       "      <td>4.521605</td>\n",
       "      <td>December</td>\n",
       "      <td>SE</td>\n",
       "    </tr>\n",
       "    <tr>\n",
       "      <th>1092</th>\n",
       "      <td>8.858356</td>\n",
       "      <td>3.274319</td>\n",
       "      <td>December</td>\n",
       "      <td>SE</td>\n",
       "    </tr>\n",
       "    <tr>\n",
       "      <th>1093</th>\n",
       "      <td>7.583410</td>\n",
       "      <td>3.888889</td>\n",
       "      <td>December</td>\n",
       "      <td>NE</td>\n",
       "    </tr>\n",
       "    <tr>\n",
       "      <th>1094</th>\n",
       "      <td>6.797454</td>\n",
       "      <td>2.436728</td>\n",
       "      <td>December</td>\n",
       "      <td>NE</td>\n",
       "    </tr>\n",
       "    <tr>\n",
       "      <th>1095</th>\n",
       "      <td>4.981019</td>\n",
       "      <td>1.565586</td>\n",
       "      <td>December</td>\n",
       "      <td>NE</td>\n",
       "    </tr>\n",
       "  </tbody>\n",
       "</table>\n",
       "<p>1096 rows × 4 columns</p>\n",
       "</div>"
      ],
      "text/plain": [
       "      Wind speed (m/s)  Ambient temperature (°C)     Month wind_direction_cat\n",
       "0             7.343056                  4.609568   January                 SW\n",
       "1             3.923920                  2.771605   January                 SW\n",
       "2             8.693133                  3.120370   January                 SE\n",
       "3             8.710494                  3.043981   January                 NE\n",
       "4             7.415895                 -0.339506   January                 NE\n",
       "...                ...                       ...       ...                ...\n",
       "1091         12.215123                  4.521605  December                 SE\n",
       "1092          8.858356                  3.274319  December                 SE\n",
       "1093          7.583410                  3.888889  December                 NE\n",
       "1094          6.797454                  2.436728  December                 NE\n",
       "1095          4.981019                  1.565586  December                 NE\n",
       "\n",
       "[1096 rows x 4 columns]"
      ]
     },
     "execution_count": 5,
     "metadata": {},
     "output_type": "execute_result"
    }
   ],
   "source": [
    "X"
   ]
  },
  {
   "cell_type": "markdown",
   "id": "177da18b",
   "metadata": {},
   "source": [
    "# Preprocessing | get dummies"
   ]
  },
  {
   "cell_type": "code",
   "execution_count": 6,
   "id": "cbc5564a",
   "metadata": {},
   "outputs": [],
   "source": [
    "X = pd.get_dummies(X, columns=[\"Month\",\"wind_direction_cat\"])"
   ]
  },
  {
   "cell_type": "markdown",
   "id": "6e7a9d4e",
   "metadata": {},
   "source": [
    "# Train test split"
   ]
  },
  {
   "cell_type": "code",
   "execution_count": 7,
   "id": "6f236257",
   "metadata": {},
   "outputs": [],
   "source": [
    "from sklearn.model_selection import train_test_split\n",
    "X_train, X_test, y_train, y_test = train_test_split(X, y, test_size=0.2, random_state=42)"
   ]
  },
  {
   "cell_type": "markdown",
   "id": "2f27edb0",
   "metadata": {},
   "source": [
    "# Train with different regressors"
   ]
  },
  {
   "cell_type": "code",
   "execution_count": 8,
   "id": "b6a6a235",
   "metadata": {},
   "outputs": [],
   "source": [
    "from sklearn.linear_model import LinearRegression\n",
    "from sklearn.tree import DecisionTreeRegressor\n",
    "from sklearn.ensemble import RandomForestRegressor\n",
    "from sklearn.svm import SVR\n",
    "from sklearn.neighbors import KNeighborsRegressor"
   ]
  },
  {
   "cell_type": "code",
   "execution_count": 9,
   "id": "754d38c8",
   "metadata": {},
   "outputs": [],
   "source": [
    "regressors = [\n",
    "    LinearRegression(),\n",
    "    DecisionTreeRegressor(),\n",
    "    RandomForestRegressor(),\n",
    "    SVR(),\n",
    "    KNeighborsRegressor()]"
   ]
  },
  {
   "cell_type": "code",
   "execution_count": 10,
   "id": "87472219",
   "metadata": {},
   "outputs": [],
   "source": [
    "from sklearn.model_selection import GridSearchCV\n",
    "from sklearn.preprocessing import StandardScaler\n",
    "from sklearn.pipeline import make_pipeline"
   ]
  },
  {
   "cell_type": "code",
   "execution_count": 11,
   "id": "e127fc79",
   "metadata": {},
   "outputs": [],
   "source": [
    "from sklearn.metrics import r2_score"
   ]
  },
  {
   "cell_type": "code",
   "execution_count": 12,
   "id": "bcdd21dd",
   "metadata": {},
   "outputs": [
    {
     "name": "stdout",
     "output_type": "stream",
     "text": [
      "Algo: LinearRegression() | R2-score: 0.9378755653052471\n",
      "Algo: DecisionTreeRegressor() | R2-score: 1.0\n",
      "Algo: RandomForestRegressor() | R2-score: 0.9942225227544579\n",
      "Algo: SVR() | R2-score: -0.04455748937845749\n",
      "Algo: KNeighborsRegressor() | R2-score: 0.9066060571538616\n"
     ]
    }
   ],
   "source": [
    "for algo in regressors:\n",
    "    \n",
    "    pipe = make_pipeline(StandardScaler(), algo)\n",
    "    \n",
    "    grid = GridSearchCV(pipe, param_grid={}, cv=10, scoring=\"r2\")\n",
    "    \n",
    "    grid.fit(X_train, y_train)\n",
    "    \n",
    "    y_train_pred = grid.predict(X_train)\n",
    "    \n",
    "    print(f\"Algo: {algo} | R2-score: {r2_score(y_train, y_train_pred)}\")"
   ]
  },
  {
   "cell_type": "markdown",
   "id": "7743221a",
   "metadata": {},
   "source": [
    "# Hyperparameter tuning\n",
    "\n",
    "- RandomForest\n",
    "- KNN"
   ]
  },
  {
   "cell_type": "code",
   "execution_count": 13,
   "id": "1d83a092",
   "metadata": {},
   "outputs": [
    {
     "name": "stdout",
     "output_type": "stream",
     "text": [
      "R2 score (train):  0.9835758483170363 | Algo: RandomForest\n",
      "Best params: {'randomforestregressor__max_depth': 25, 'randomforestregressor__min_samples_leaf': 3, 'randomforestregressor__n_estimators': 500} | Algo: RandomForest\n"
     ]
    }
   ],
   "source": [
    "# RandomForest\n",
    "param_grid_rf = {\"randomforestregressor__min_samples_leaf\":[3],\n",
    "                \"randomforestregressor__max_depth\":[25],\n",
    "                    \"randomforestregressor__n_estimators\":[500]}\n",
    "\n",
    "pipe = make_pipeline(StandardScaler(), RandomForestRegressor())\n",
    "grid_rf = GridSearchCV(pipe, param_grid=param_grid_rf, cv=5, scoring=\"r2\")\n",
    "grid_rf.fit(X_train, y_train)\n",
    "y_train_pred = grid_rf.predict(X_train)\n",
    "print(f\"R2 score (train):  {r2_score(y_train, y_train_pred)} | Algo: RandomForest\")\n",
    "print(f\"Best params: {grid_rf.best_params_} | Algo: RandomForest\")"
   ]
  },
  {
   "cell_type": "code",
   "execution_count": 14,
   "id": "c8060f67",
   "metadata": {},
   "outputs": [
    {
     "name": "stdout",
     "output_type": "stream",
     "text": [
      "R2 score (train):  0.9671341935613972 | Algo: KNeighborsRegressor\n",
      "Best params: {'kneighborsregressor__metric': 'euclidean', 'kneighborsregressor__n_neighbors': 2} | Algo: KNeighborsRegressor\n"
     ]
    }
   ],
   "source": [
    "# KNN\n",
    "\n",
    "param_grid_knn = {\"kneighborsregressor__n_neighbors\":[1,2,3, 4, 5, 6, 11],\n",
    "                \"kneighborsregressor__metric\":[\"euclidean\", \"manhattan\"]}\n",
    "\n",
    "pipe = make_pipeline(StandardScaler(), KNeighborsRegressor())\n",
    "grid_knn = GridSearchCV(pipe, param_grid=param_grid_knn, cv=5, scoring=\"r2\")\n",
    "grid_knn.fit(X_train, y_train)\n",
    "y_train_pred_knn = grid_knn.predict(X_train)\n",
    "print(f\"R2 score (train):  {r2_score(y_train, y_train_pred_knn)} | Algo: KNeighborsRegressor\")\n",
    "print(f\"Best params: {grid_knn.best_params_} | Algo: KNeighborsRegressor\")"
   ]
  },
  {
   "cell_type": "markdown",
   "id": "341107bc",
   "metadata": {},
   "source": [
    "# Evaluate on test data"
   ]
  },
  {
   "cell_type": "code",
   "execution_count": 15,
   "id": "c044fdae",
   "metadata": {},
   "outputs": [],
   "source": [
    "from sklearn.metrics import r2_score"
   ]
  },
  {
   "cell_type": "code",
   "execution_count": 16,
   "id": "99289718",
   "metadata": {},
   "outputs": [
    {
     "data": {
      "text/plain": [
       "0.9582006310819738"
      ]
     },
     "execution_count": 16,
     "metadata": {},
     "output_type": "execute_result"
    }
   ],
   "source": [
    "# RandomForest\n",
    "\n",
    "r2_score(y_test, grid_rf.predict(X_test))"
   ]
  },
  {
   "cell_type": "code",
   "execution_count": 17,
   "id": "11f0986e",
   "metadata": {},
   "outputs": [
    {
     "data": {
      "text/plain": [
       "0.8964886830082892"
      ]
     },
     "execution_count": 17,
     "metadata": {},
     "output_type": "execute_result"
    }
   ],
   "source": [
    "# KNN\n",
    "\n",
    "r2_score(y_test, grid_knn.predict(X_test))"
   ]
  },
  {
   "cell_type": "code",
   "execution_count": 18,
   "id": "2f7564b6",
   "metadata": {},
   "outputs": [
    {
     "data": {
      "text/plain": [
       "0.9412535457157336"
      ]
     },
     "execution_count": 18,
     "metadata": {},
     "output_type": "execute_result"
    }
   ],
   "source": [
    "# LinearRegression\n",
    "\n",
    "pipe = make_pipeline(StandardScaler(), LinearRegression())\n",
    "    \n",
    "grid_linreg = GridSearchCV(pipe, param_grid={}, cv=10, scoring=\"r2\")\n",
    "grid_linreg.fit(X_train, y_train)\n",
    "\n",
    "r2_score(y_test, grid_linreg.predict(X_test))"
   ]
  },
  {
   "cell_type": "code",
   "execution_count": null,
   "id": "4ce95db2",
   "metadata": {},
   "outputs": [],
   "source": []
  }
 ],
 "metadata": {
  "kernelspec": {
   "display_name": "Python 3",
   "language": "python",
   "name": "python3"
  },
  "language_info": {
   "codemirror_mode": {
    "name": "ipython",
    "version": 3
   },
   "file_extension": ".py",
   "mimetype": "text/x-python",
   "name": "python",
   "nbconvert_exporter": "python",
   "pygments_lexer": "ipython3",
   "version": "3.8.8"
  }
 },
 "nbformat": 4,
 "nbformat_minor": 5
}
